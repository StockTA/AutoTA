{
 "cells": [
  {
   "cell_type": "code",
   "execution_count": 7,
   "id": "9af58745-85b5-4b68-89c2-51439bf2fe4f",
   "metadata": {
    "execution": {
     "iopub.execute_input": "2024-12-06T18:23:34.261251Z",
     "iopub.status.busy": "2024-12-06T18:23:34.260720Z",
     "iopub.status.idle": "2024-12-06T18:23:34.639251Z",
     "shell.execute_reply": "2024-12-06T18:23:34.638358Z",
     "shell.execute_reply.started": "2024-12-06T18:23:34.261226Z"
    }
   },
   "outputs": [
    {
     "ename": "ModuleNotFoundError",
     "evalue": "No module named 'apscheduler'",
     "output_type": "error",
     "traceback": [
      "\u001b[0;31m---------------------------------------------------------------------------\u001b[0m",
      "\u001b[0;31mModuleNotFoundError\u001b[0m                       Traceback (most recent call last)",
      "Cell \u001b[0;32mIn[7], line 3\u001b[0m\n\u001b[1;32m      1\u001b[0m \u001b[38;5;66;03m# Job Scheduler\u001b[39;00m\n\u001b[0;32m----> 3\u001b[0m \u001b[38;5;28;01mfrom\u001b[39;00m \u001b[38;5;21;01mapscheduler\u001b[39;00m\u001b[38;5;21;01m.\u001b[39;00m\u001b[38;5;21;01mschedulers\u001b[39;00m\u001b[38;5;21;01m.\u001b[39;00m\u001b[38;5;21;01mbackground\u001b[39;00m \u001b[38;5;28;01mimport\u001b[39;00m BackgroundScheduler\n\u001b[1;32m      4\u001b[0m \u001b[38;5;28;01mfrom\u001b[39;00m \u001b[38;5;21;01mapscheduler\u001b[39;00m\u001b[38;5;21;01m.\u001b[39;00m\u001b[38;5;21;01mtriggers\u001b[39;00m\u001b[38;5;21;01m.\u001b[39;00m\u001b[38;5;21;01mcron\u001b[39;00m \u001b[38;5;28;01mimport\u001b[39;00m CronTrigger\n\u001b[1;32m      5\u001b[0m \u001b[38;5;28;01mimport\u001b[39;00m \u001b[38;5;21;01msubprocess\u001b[39;00m\n",
      "\u001b[0;31mModuleNotFoundError\u001b[0m: No module named 'apscheduler'"
     ]
    }
   ],
   "source": [
    "# Job Scheduler\n",
    "\n",
    "from apscheduler.schedulers.background import BackgroundScheduler\n",
    "from apscheduler.triggers.cron import CronTrigger\n",
    "import subprocess\n",
    "\n",
    "\n",
    "def run_AutoTA1():\n",
    "    subprocess.call([\"python\", \"./jobtest.py\"])\n",
    "\n",
    "def run_AutoTA2():\n",
    "    subprocess.call([\"python\", \"./jobtest.py\"])\n",
    "\n",
    "def run_AutoTA3():\n",
    "    subprocess.call([\"python\", \"./jobtest.py\"])\n",
    "\n",
    "scheduler = BackgroundScheduler()\n",
    "\n",
    "# Run the job hourly during work hours. Adjusted for UTC (+5 hours) \n",
    "scheduler.add_job(run_AutoTA1, trigger=CronTrigger(day_of_week = 'mon-fri', hour = '13-22', minute = '30', second = '0'))  # , args=[\"1\"]))   */10... runs every 10 min, etc.\n",
    "#scheduler.add_job(run_AutoTA2, trigger=CronTrigger(day_of_week = 'mon-fri', hour = '13-22', minute = '2', second = '0'))\n",
    "#scheduler.add_job(run_AutoTA3, trigger=CronTrigger(day_of_week = 'mon-fri', hour = '13-22', minute = '4', second = '0'))\n",
    "\n",
    "#scheduler.add_job(run_my_script, trigger=CronTrigger(day_of_week = 'mon-fri', hour = '12-21', minute = '0', second = '0')) # For daylight savings\n",
    "\n",
    "scheduler.start()\n",
    "\n",
    "# Keep the main thread alive (makes BackgroundScheduler into a BlockScheduler so output can be seen) \n",
    "#try:\n",
    "#    while True:\n",
    "#        pass\n",
    "#except (KeyboardInterrupt, SystemExit):\n",
    "#    scheduler.shutdown()\n"
   ]
  },
  {
   "cell_type": "code",
   "execution_count": null,
   "id": "7768eeb1-c138-427b-91c5-302a3c791fb5",
   "metadata": {},
   "outputs": [],
   "source": []
  }
 ],
 "metadata": {
  "kernelspec": {
   "display_name": "anaconda-panel-2023.05-py310",
   "language": "python",
   "name": "conda-env-anaconda-panel-2023.05-py310-py"
  },
  "language_info": {
   "codemirror_mode": {
    "name": "ipython",
    "version": 3
   },
   "file_extension": ".py",
   "mimetype": "text/x-python",
   "name": "python",
   "nbconvert_exporter": "python",
   "pygments_lexer": "ipython3",
   "version": "3.11.5"
  }
 },
 "nbformat": 4,
 "nbformat_minor": 5
}
